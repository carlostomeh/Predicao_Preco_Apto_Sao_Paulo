{
 "cells": [
  {
   "cell_type": "markdown",
   "metadata": {},
   "source": [
    "<span style='font-size: 2.5em'><b>São Paulo Housing 🏡</b></span><br/>\n",
    "<span style='font-size: 1.5em'>Predict the median housing price in São Paulo apartments</span>\n",
    "\n",
    "<span style=\"background-color: #ffc351; padding: 4px; font-size: 1em;\"><b>Sprint #2</b></span>\n",
    "\n",
    "\n",
    "\n",
    "### **D2APR: Aprendizado de Máquina e Reconhecimento de Padrões** (IFSP, Campinas) <br/>\n",
    "**Prof**: Samuel Martins (Samuka) <br/>\n",
    "\n",
    "#### Projeto de Estudo\n",
    "\n",
    "**Aluno**: Carlos Danilo Tomé\n",
    "\n",
    "**Dataset**: https://www.kaggle.com/argonalyst/sao-paulo-real-estate-sale-rent-april-2019\n",
    "\n",
    "This data is about 13,000 apartments in São Paulo City - Brazil available in Kaggle platform.\n",
    "\n",
    "**Final Goal**: Predict housing price in São Paulo.\n",
    "\n",
    "---\n",
    "\n",
    "## 🎯 Sprint Goals\n",
    "- Choosing final sample\n",
    "- Adding features\n",
    "- Create a Function to imput na values\n",
    "- Create a Custom Tranformer\n",
    "- Build a Pipeline \n",
    "- Create a column transform\n",
    "- Try other models/algorithms (mainly nonlinear)\n",
    "---"
   ]
  },
  {
   "cell_type": "code",
   "execution_count": 127,
   "metadata": {},
   "outputs": [
    {
     "data": {
      "text/html": [
       "<div>\n",
       "<style scoped>\n",
       "    .dataframe tbody tr th:only-of-type {\n",
       "        vertical-align: middle;\n",
       "    }\n",
       "\n",
       "    .dataframe tbody tr th {\n",
       "        vertical-align: top;\n",
       "    }\n",
       "\n",
       "    .dataframe thead th {\n",
       "        text-align: right;\n",
       "    }\n",
       "</style>\n",
       "<table border=\"1\" class=\"dataframe\">\n",
       "  <thead>\n",
       "    <tr style=\"text-align: right;\">\n",
       "      <th></th>\n",
       "      <th>Price</th>\n",
       "      <th>Condo</th>\n",
       "      <th>Size</th>\n",
       "      <th>Rooms</th>\n",
       "      <th>Toilets</th>\n",
       "      <th>Suites</th>\n",
       "      <th>Parking</th>\n",
       "      <th>Elevator</th>\n",
       "      <th>Furnished</th>\n",
       "      <th>Swimming Pool</th>\n",
       "      <th>New</th>\n",
       "      <th>District</th>\n",
       "      <th>Negotiation Type</th>\n",
       "      <th>Property Type</th>\n",
       "      <th>Latitude</th>\n",
       "      <th>Longitude</th>\n",
       "    </tr>\n",
       "  </thead>\n",
       "  <tbody>\n",
       "    <tr>\n",
       "      <th>0</th>\n",
       "      <td>930</td>\n",
       "      <td>220</td>\n",
       "      <td>47</td>\n",
       "      <td>2</td>\n",
       "      <td>2</td>\n",
       "      <td>1</td>\n",
       "      <td>1</td>\n",
       "      <td>0</td>\n",
       "      <td>0</td>\n",
       "      <td>0</td>\n",
       "      <td>0</td>\n",
       "      <td>Artur Alvim/São Paulo</td>\n",
       "      <td>rent</td>\n",
       "      <td>apartment</td>\n",
       "      <td>-23.543138</td>\n",
       "      <td>-46.479486</td>\n",
       "    </tr>\n",
       "    <tr>\n",
       "      <th>1</th>\n",
       "      <td>1000</td>\n",
       "      <td>148</td>\n",
       "      <td>45</td>\n",
       "      <td>2</td>\n",
       "      <td>2</td>\n",
       "      <td>1</td>\n",
       "      <td>1</td>\n",
       "      <td>0</td>\n",
       "      <td>0</td>\n",
       "      <td>0</td>\n",
       "      <td>0</td>\n",
       "      <td>Artur Alvim/São Paulo</td>\n",
       "      <td>rent</td>\n",
       "      <td>apartment</td>\n",
       "      <td>-23.550239</td>\n",
       "      <td>-46.480718</td>\n",
       "    </tr>\n",
       "    <tr>\n",
       "      <th>2</th>\n",
       "      <td>1000</td>\n",
       "      <td>100</td>\n",
       "      <td>48</td>\n",
       "      <td>2</td>\n",
       "      <td>2</td>\n",
       "      <td>1</td>\n",
       "      <td>1</td>\n",
       "      <td>0</td>\n",
       "      <td>0</td>\n",
       "      <td>0</td>\n",
       "      <td>0</td>\n",
       "      <td>Artur Alvim/São Paulo</td>\n",
       "      <td>rent</td>\n",
       "      <td>apartment</td>\n",
       "      <td>-23.542818</td>\n",
       "      <td>-46.485665</td>\n",
       "    </tr>\n",
       "  </tbody>\n",
       "</table>\n",
       "</div>"
      ],
      "text/plain": [
       "   Price  Condo  Size  Rooms  Toilets  Suites  Parking  Elevator  Furnished  \\\n",
       "0    930    220    47      2        2       1        1         0          0   \n",
       "1   1000    148    45      2        2       1        1         0          0   \n",
       "2   1000    100    48      2        2       1        1         0          0   \n",
       "\n",
       "   Swimming Pool  New               District Negotiation Type Property Type  \\\n",
       "0              0    0  Artur Alvim/São Paulo             rent     apartment   \n",
       "1              0    0  Artur Alvim/São Paulo             rent     apartment   \n",
       "2              0    0  Artur Alvim/São Paulo             rent     apartment   \n",
       "\n",
       "    Latitude  Longitude  \n",
       "0 -23.543138 -46.479486  \n",
       "1 -23.550239 -46.480718  \n",
       "2 -23.542818 -46.485665  "
      ]
     },
     "execution_count": 127,
     "metadata": {},
     "output_type": "execute_result"
    }
   ],
   "source": [
    "import numpy as np\n",
    "import pandas as pd\n",
    "import matplotlib.pyplot as plt\n",
    "import seaborn as sns\n",
    "from sklearn.metrics import mean_squared_error\n",
    "from sklearn.model_selection import train_test_split\n",
    "from sklearn.model_selection import GridSearchCV\n",
    "import joblib\n",
    "from sklearn.base import BaseEstimator\n",
    "from sklearn.base import TransformerMixin\n",
    "\n",
    "sns.set_theme(style=\"whitegrid\")\n",
    "\n",
    "params = {'legend.fontsize': 'x-large',\n",
    "          'figure.figsize': (15, 5),\n",
    "          'axes.labelsize': 'x-large',\n",
    "          'axes.titlesize':'x-large',\n",
    "          'xtick.labelsize':'x-large',\n",
    "          'ytick.labelsize':'x-large'}\n",
    "plt.rcParams.update(params)\n",
    "\n",
    "import warnings\n",
    "warnings.filterwarnings(\"ignore\")\n",
    "\n",
    "path='./datasets/sao-paulo-properties-april-2019.csv'\n",
    "housing = pd.read_csv(path)\n",
    "\n",
    "housing.head(3)"
   ]
  },
  {
   "cell_type": "code",
   "execution_count": 51,
   "metadata": {},
   "outputs": [
    {
     "data": {
      "text/plain": [
       "(6412, 16)"
      ]
     },
     "execution_count": 51,
     "metadata": {},
     "output_type": "execute_result"
    }
   ],
   "source": [
    "housing[housing['Negotiation Type']=='sale'].shape"
   ]
  },
  {
   "cell_type": "markdown",
   "metadata": {},
   "source": [
    "## 🧹 Choosing final sample\n",
    "\n",
    "We are hold only data that type of negotiation is Sale."
   ]
  },
  {
   "cell_type": "code",
   "execution_count": 52,
   "metadata": {},
   "outputs": [],
   "source": [
    "# Set only sale Negotiation Type - Sale\n",
    "housing = housing[housing['Negotiation Type']=='sale']\n",
    "\n",
    "# Drop duplicated data\n",
    "housing.drop_duplicates(keep='first', inplace=True)\n",
    "\n",
    "# Drop columns\n",
    "housing.drop(['Negotiation Type', 'Property Type'], axis=1, inplace=True)\n",
    "\n",
    "# Split data between train and test\n",
    "housing_train, housing_test = train_test_split(housing, test_size=0.2, stratify=housing['District'], random_state=42)"
   ]
  },
  {
   "cell_type": "code",
   "execution_count": 53,
   "metadata": {},
   "outputs": [],
   "source": [
    "# Save data after split\n",
    "housing_train.to_csv('./datasets/housing_train.csv', sep=';',index=False)\n",
    "housing_test.to_csv('./datasets/housing_test.csv', sep=';',index=False)"
   ]
  },
  {
   "cell_type": "markdown",
   "metadata": {},
   "source": [
    "## 🔲 1. Pré Processing and Adding features"
   ]
  },
  {
   "cell_type": "code",
   "execution_count": 54,
   "metadata": {},
   "outputs": [
    {
     "data": {
      "text/html": [
       "<div>\n",
       "<style scoped>\n",
       "    .dataframe tbody tr th:only-of-type {\n",
       "        vertical-align: middle;\n",
       "    }\n",
       "\n",
       "    .dataframe tbody tr th {\n",
       "        vertical-align: top;\n",
       "    }\n",
       "\n",
       "    .dataframe thead th {\n",
       "        text-align: right;\n",
       "    }\n",
       "</style>\n",
       "<table border=\"1\" class=\"dataframe\">\n",
       "  <thead>\n",
       "    <tr style=\"text-align: right;\">\n",
       "      <th></th>\n",
       "      <th>Price</th>\n",
       "      <th>Condo</th>\n",
       "      <th>Size</th>\n",
       "      <th>Rooms</th>\n",
       "      <th>Toilets</th>\n",
       "      <th>Suites</th>\n",
       "      <th>Parking</th>\n",
       "      <th>Elevator</th>\n",
       "      <th>Furnished</th>\n",
       "      <th>Swimming Pool</th>\n",
       "      <th>New</th>\n",
       "      <th>District</th>\n",
       "      <th>Latitude</th>\n",
       "      <th>Longitude</th>\n",
       "    </tr>\n",
       "  </thead>\n",
       "  <tbody>\n",
       "    <tr>\n",
       "      <th>0</th>\n",
       "      <td>750000</td>\n",
       "      <td>1465</td>\n",
       "      <td>152</td>\n",
       "      <td>3</td>\n",
       "      <td>2</td>\n",
       "      <td>1</td>\n",
       "      <td>2</td>\n",
       "      <td>0</td>\n",
       "      <td>0</td>\n",
       "      <td>1</td>\n",
       "      <td>0</td>\n",
       "      <td>Vila Jacuí/São Paulo</td>\n",
       "      <td>-23.499458</td>\n",
       "      <td>-46.449633</td>\n",
       "    </tr>\n",
       "    <tr>\n",
       "      <th>1</th>\n",
       "      <td>570000</td>\n",
       "      <td>604</td>\n",
       "      <td>84</td>\n",
       "      <td>3</td>\n",
       "      <td>2</td>\n",
       "      <td>1</td>\n",
       "      <td>2</td>\n",
       "      <td>0</td>\n",
       "      <td>0</td>\n",
       "      <td>1</td>\n",
       "      <td>0</td>\n",
       "      <td>Jaguaré/São Paulo</td>\n",
       "      <td>-23.541739</td>\n",
       "      <td>-46.753211</td>\n",
       "    </tr>\n",
       "    <tr>\n",
       "      <th>2</th>\n",
       "      <td>450000</td>\n",
       "      <td>680</td>\n",
       "      <td>73</td>\n",
       "      <td>3</td>\n",
       "      <td>2</td>\n",
       "      <td>1</td>\n",
       "      <td>1</td>\n",
       "      <td>1</td>\n",
       "      <td>0</td>\n",
       "      <td>0</td>\n",
       "      <td>0</td>\n",
       "      <td>Socorro/São Paulo</td>\n",
       "      <td>-23.689616</td>\n",
       "      <td>-46.698819</td>\n",
       "    </tr>\n",
       "  </tbody>\n",
       "</table>\n",
       "</div>"
      ],
      "text/plain": [
       "    Price  Condo  Size  Rooms  Toilets  Suites  Parking  Elevator  Furnished  \\\n",
       "0  750000   1465   152      3        2       1        2         0          0   \n",
       "1  570000    604    84      3        2       1        2         0          0   \n",
       "2  450000    680    73      3        2       1        1         1          0   \n",
       "\n",
       "   Swimming Pool  New              District   Latitude  Longitude  \n",
       "0              1    0  Vila Jacuí/São Paulo -23.499458 -46.449633  \n",
       "1              1    0     Jaguaré/São Paulo -23.541739 -46.753211  \n",
       "2              0    0     Socorro/São Paulo -23.689616 -46.698819  "
      ]
     },
     "execution_count": 54,
     "metadata": {},
     "output_type": "execute_result"
    }
   ],
   "source": [
    "housing_train = pd.read_csv('./datasets/housing_train.csv', sep=';')\n",
    "\n",
    "housing_train.head(3)"
   ]
  },
  {
   "cell_type": "code",
   "execution_count": 55,
   "metadata": {},
   "outputs": [
    {
     "data": {
      "text/html": [
       "<div>\n",
       "<style scoped>\n",
       "    .dataframe tbody tr th:only-of-type {\n",
       "        vertical-align: middle;\n",
       "    }\n",
       "\n",
       "    .dataframe tbody tr th {\n",
       "        vertical-align: top;\n",
       "    }\n",
       "\n",
       "    .dataframe thead th {\n",
       "        text-align: right;\n",
       "    }\n",
       "</style>\n",
       "<table border=\"1\" class=\"dataframe\">\n",
       "  <thead>\n",
       "    <tr style=\"text-align: right;\">\n",
       "      <th></th>\n",
       "      <th>Condo</th>\n",
       "      <th>Size</th>\n",
       "      <th>Rooms</th>\n",
       "      <th>Toilets</th>\n",
       "      <th>Suites</th>\n",
       "      <th>Parking</th>\n",
       "      <th>Elevator</th>\n",
       "      <th>Furnished</th>\n",
       "      <th>Swimming Pool</th>\n",
       "      <th>New</th>\n",
       "      <th>District</th>\n",
       "      <th>Latitude</th>\n",
       "      <th>Longitude</th>\n",
       "    </tr>\n",
       "  </thead>\n",
       "  <tbody>\n",
       "    <tr>\n",
       "      <th>0</th>\n",
       "      <td>1465</td>\n",
       "      <td>152</td>\n",
       "      <td>3</td>\n",
       "      <td>2</td>\n",
       "      <td>1</td>\n",
       "      <td>2</td>\n",
       "      <td>0</td>\n",
       "      <td>0</td>\n",
       "      <td>1</td>\n",
       "      <td>0</td>\n",
       "      <td>Vila Jacuí/São Paulo</td>\n",
       "      <td>-23.499458</td>\n",
       "      <td>-46.449633</td>\n",
       "    </tr>\n",
       "    <tr>\n",
       "      <th>1</th>\n",
       "      <td>604</td>\n",
       "      <td>84</td>\n",
       "      <td>3</td>\n",
       "      <td>2</td>\n",
       "      <td>1</td>\n",
       "      <td>2</td>\n",
       "      <td>0</td>\n",
       "      <td>0</td>\n",
       "      <td>1</td>\n",
       "      <td>0</td>\n",
       "      <td>Jaguaré/São Paulo</td>\n",
       "      <td>-23.541739</td>\n",
       "      <td>-46.753211</td>\n",
       "    </tr>\n",
       "    <tr>\n",
       "      <th>2</th>\n",
       "      <td>680</td>\n",
       "      <td>73</td>\n",
       "      <td>3</td>\n",
       "      <td>2</td>\n",
       "      <td>1</td>\n",
       "      <td>1</td>\n",
       "      <td>1</td>\n",
       "      <td>0</td>\n",
       "      <td>0</td>\n",
       "      <td>0</td>\n",
       "      <td>Socorro/São Paulo</td>\n",
       "      <td>-23.689616</td>\n",
       "      <td>-46.698819</td>\n",
       "    </tr>\n",
       "    <tr>\n",
       "      <th>3</th>\n",
       "      <td>700</td>\n",
       "      <td>46</td>\n",
       "      <td>2</td>\n",
       "      <td>2</td>\n",
       "      <td>1</td>\n",
       "      <td>1</td>\n",
       "      <td>0</td>\n",
       "      <td>0</td>\n",
       "      <td>0</td>\n",
       "      <td>0</td>\n",
       "      <td>Carrão/São Paulo</td>\n",
       "      <td>-23.548712</td>\n",
       "      <td>-46.529097</td>\n",
       "    </tr>\n",
       "    <tr>\n",
       "      <th>4</th>\n",
       "      <td>0</td>\n",
       "      <td>41</td>\n",
       "      <td>2</td>\n",
       "      <td>2</td>\n",
       "      <td>1</td>\n",
       "      <td>1</td>\n",
       "      <td>1</td>\n",
       "      <td>0</td>\n",
       "      <td>0</td>\n",
       "      <td>1</td>\n",
       "      <td>Cursino/São Paulo</td>\n",
       "      <td>-23.652923</td>\n",
       "      <td>-46.614163</td>\n",
       "    </tr>\n",
       "  </tbody>\n",
       "</table>\n",
       "</div>"
      ],
      "text/plain": [
       "   Condo  Size  Rooms  Toilets  Suites  Parking  Elevator  Furnished  \\\n",
       "0   1465   152      3        2       1        2         0          0   \n",
       "1    604    84      3        2       1        2         0          0   \n",
       "2    680    73      3        2       1        1         1          0   \n",
       "3    700    46      2        2       1        1         0          0   \n",
       "4      0    41      2        2       1        1         1          0   \n",
       "\n",
       "   Swimming Pool  New              District   Latitude  Longitude  \n",
       "0              1    0  Vila Jacuí/São Paulo -23.499458 -46.449633  \n",
       "1              1    0     Jaguaré/São Paulo -23.541739 -46.753211  \n",
       "2              0    0     Socorro/São Paulo -23.689616 -46.698819  \n",
       "3              0    0      Carrão/São Paulo -23.548712 -46.529097  \n",
       "4              0    1     Cursino/São Paulo -23.652923 -46.614163  "
      ]
     },
     "execution_count": 55,
     "metadata": {},
     "output_type": "execute_result"
    }
   ],
   "source": [
    "X_train = housing_train.drop(['Price'], axis=1).copy()\n",
    "y_train = housing_train['Price'].copy()\n",
    "\n",
    "X_train.head()"
   ]
  },
  {
   "cell_type": "markdown",
   "metadata": {},
   "source": [
    "### Adding Features"
   ]
  },
  {
   "cell_type": "code",
   "execution_count": 56,
   "metadata": {},
   "outputs": [
    {
     "data": {
      "text/html": [
       "<div>\n",
       "<style scoped>\n",
       "    .dataframe tbody tr th:only-of-type {\n",
       "        vertical-align: middle;\n",
       "    }\n",
       "\n",
       "    .dataframe tbody tr th {\n",
       "        vertical-align: top;\n",
       "    }\n",
       "\n",
       "    .dataframe thead th {\n",
       "        text-align: right;\n",
       "    }\n",
       "</style>\n",
       "<table border=\"1\" class=\"dataframe\">\n",
       "  <thead>\n",
       "    <tr style=\"text-align: right;\">\n",
       "      <th></th>\n",
       "      <th>Condo</th>\n",
       "      <th>Size</th>\n",
       "      <th>Rooms</th>\n",
       "      <th>Toilets</th>\n",
       "      <th>Suites</th>\n",
       "      <th>Parking</th>\n",
       "      <th>Elevator</th>\n",
       "      <th>Furnished</th>\n",
       "      <th>Swimming Pool</th>\n",
       "      <th>New</th>\n",
       "      <th>District</th>\n",
       "      <th>Latitude</th>\n",
       "      <th>Longitude</th>\n",
       "      <th>Total Rooms</th>\n",
       "      <th>Total Bedrooms</th>\n",
       "    </tr>\n",
       "  </thead>\n",
       "  <tbody>\n",
       "    <tr>\n",
       "      <th>0</th>\n",
       "      <td>1465</td>\n",
       "      <td>152</td>\n",
       "      <td>3</td>\n",
       "      <td>2</td>\n",
       "      <td>1</td>\n",
       "      <td>2</td>\n",
       "      <td>0</td>\n",
       "      <td>0</td>\n",
       "      <td>1</td>\n",
       "      <td>0</td>\n",
       "      <td>Vila Jacuí/São Paulo</td>\n",
       "      <td>-23.499458</td>\n",
       "      <td>-46.449633</td>\n",
       "      <td>6</td>\n",
       "      <td>3</td>\n",
       "    </tr>\n",
       "    <tr>\n",
       "      <th>1</th>\n",
       "      <td>604</td>\n",
       "      <td>84</td>\n",
       "      <td>3</td>\n",
       "      <td>2</td>\n",
       "      <td>1</td>\n",
       "      <td>2</td>\n",
       "      <td>0</td>\n",
       "      <td>0</td>\n",
       "      <td>1</td>\n",
       "      <td>0</td>\n",
       "      <td>Jaguaré/São Paulo</td>\n",
       "      <td>-23.541739</td>\n",
       "      <td>-46.753211</td>\n",
       "      <td>6</td>\n",
       "      <td>3</td>\n",
       "    </tr>\n",
       "    <tr>\n",
       "      <th>2</th>\n",
       "      <td>680</td>\n",
       "      <td>73</td>\n",
       "      <td>3</td>\n",
       "      <td>2</td>\n",
       "      <td>1</td>\n",
       "      <td>1</td>\n",
       "      <td>1</td>\n",
       "      <td>0</td>\n",
       "      <td>0</td>\n",
       "      <td>0</td>\n",
       "      <td>Socorro/São Paulo</td>\n",
       "      <td>-23.689616</td>\n",
       "      <td>-46.698819</td>\n",
       "      <td>6</td>\n",
       "      <td>3</td>\n",
       "    </tr>\n",
       "  </tbody>\n",
       "</table>\n",
       "</div>"
      ],
      "text/plain": [
       "   Condo  Size  Rooms  Toilets  Suites  Parking  Elevator  Furnished  \\\n",
       "0   1465   152      3        2       1        2         0          0   \n",
       "1    604    84      3        2       1        2         0          0   \n",
       "2    680    73      3        2       1        1         1          0   \n",
       "\n",
       "   Swimming Pool  New              District   Latitude  Longitude  \\\n",
       "0              1    0  Vila Jacuí/São Paulo -23.499458 -46.449633   \n",
       "1              1    0     Jaguaré/São Paulo -23.541739 -46.753211   \n",
       "2              0    0     Socorro/São Paulo -23.689616 -46.698819   \n",
       "\n",
       "   Total Rooms  Total Bedrooms  \n",
       "0            6               3  \n",
       "1            6               3  \n",
       "2            6               3  "
      ]
     },
     "execution_count": 56,
     "metadata": {},
     "output_type": "execute_result"
    }
   ],
   "source": [
    "X_train['Total Rooms']            = X_train['Rooms'] + X_train['Toilets'] + X_train['Suites']\n",
    "X_train['Total Bedrooms']         = X_train['Toilets'] + X_train['Suites']\n",
    "X_train.head(3)"
   ]
  },
  {
   "cell_type": "code",
   "execution_count": 57,
   "metadata": {},
   "outputs": [
    {
     "data": {
      "image/png": "[encoded data removed]",
      "text/plain": [
       "<Figure size 864x288 with 3 Axes>"
      ]
     },
     "metadata": {},
     "output_type": "display_data"
    }
   ],
   "source": [
    "X_train.hist(column=['Condo','Total Rooms', 'Total Bedrooms'], figsize=(12,4),layout=(1,3));"
   ]
  },
  {
   "cell_type": "markdown",
   "metadata": {},
   "source": [
    "### Adding District Rate"
   ]
  },
  {
   "cell_type": "code",
   "execution_count": 58,
   "metadata": {},
   "outputs": [
    {
     "data": {
      "text/html": [
       "<div>\n",
       "<style scoped>\n",
       "    .dataframe tbody tr th:only-of-type {\n",
       "        vertical-align: middle;\n",
       "    }\n",
       "\n",
       "    .dataframe tbody tr th {\n",
       "        vertical-align: top;\n",
       "    }\n",
       "\n",
       "    .dataframe thead th {\n",
       "        text-align: right;\n",
       "    }\n",
       "</style>\n",
       "<table border=\"1\" class=\"dataframe\">\n",
       "  <thead>\n",
       "    <tr style=\"text-align: right;\">\n",
       "      <th></th>\n",
       "      <th>District</th>\n",
       "      <th>qtd_housing</th>\n",
       "      <th>mean_housing_price</th>\n",
       "      <th>mean_housing_size</th>\n",
       "      <th>mean_Price_per_square_meter</th>\n",
       "      <th>mean_housing_condo</th>\n",
       "      <th>pct_new_housing</th>\n",
       "      <th>Latitude_district</th>\n",
       "      <th>Longitude_district</th>\n",
       "    </tr>\n",
       "  </thead>\n",
       "  <tbody>\n",
       "    <tr>\n",
       "      <th>0</th>\n",
       "      <td>Alto de Pinheiros/São Paulo</td>\n",
       "      <td>78.0</td>\n",
       "      <td>2.571864e+06</td>\n",
       "      <td>181.115385</td>\n",
       "      <td>14200.140582</td>\n",
       "      <td>1417.487179</td>\n",
       "      <td>0.000000</td>\n",
       "      <td>-23.030073</td>\n",
       "      <td>-45.573297</td>\n",
       "    </tr>\n",
       "    <tr>\n",
       "      <th>1</th>\n",
       "      <td>Anhanguera/São Paulo</td>\n",
       "      <td>29.0</td>\n",
       "      <td>1.016517e+06</td>\n",
       "      <td>154.241379</td>\n",
       "      <td>6590.431478</td>\n",
       "      <td>1071.862069</td>\n",
       "      <td>0.000000</td>\n",
       "      <td>-23.665478</td>\n",
       "      <td>-46.691436</td>\n",
       "    </tr>\n",
       "    <tr>\n",
       "      <th>2</th>\n",
       "      <td>Aricanduva/São Paulo</td>\n",
       "      <td>64.0</td>\n",
       "      <td>2.986544e+05</td>\n",
       "      <td>56.625000</td>\n",
       "      <td>5274.249448</td>\n",
       "      <td>324.359375</td>\n",
       "      <td>9.375000</td>\n",
       "      <td>-21.821550</td>\n",
       "      <td>-42.964857</td>\n",
       "    </tr>\n",
       "    <tr>\n",
       "      <th>3</th>\n",
       "      <td>Artur Alvim/São Paulo</td>\n",
       "      <td>66.0</td>\n",
       "      <td>1.893636e+05</td>\n",
       "      <td>48.333333</td>\n",
       "      <td>3917.867712</td>\n",
       "      <td>122.848485</td>\n",
       "      <td>7.575758</td>\n",
       "      <td>-13.964309</td>\n",
       "      <td>-27.506922</td>\n",
       "    </tr>\n",
       "    <tr>\n",
       "      <th>4</th>\n",
       "      <td>Barra Funda/São Paulo</td>\n",
       "      <td>94.0</td>\n",
       "      <td>5.845222e+05</td>\n",
       "      <td>72.457447</td>\n",
       "      <td>8067.110556</td>\n",
       "      <td>511.468085</td>\n",
       "      <td>4.255319</td>\n",
       "      <td>-22.336662</td>\n",
       "      <td>-42.747301</td>\n",
       "    </tr>\n",
       "  </tbody>\n",
       "</table>\n",
       "</div>"
      ],
      "text/plain": [
       "                      District  qtd_housing  mean_housing_price  \\\n",
       "0  Alto de Pinheiros/São Paulo         78.0        2.571864e+06   \n",
       "1         Anhanguera/São Paulo         29.0        1.016517e+06   \n",
       "2         Aricanduva/São Paulo         64.0        2.986544e+05   \n",
       "3        Artur Alvim/São Paulo         66.0        1.893636e+05   \n",
       "4        Barra Funda/São Paulo         94.0        5.845222e+05   \n",
       "\n",
       "   mean_housing_size  mean_Price_per_square_meter  mean_housing_condo  \\\n",
       "0         181.115385                 14200.140582         1417.487179   \n",
       "1         154.241379                  6590.431478         1071.862069   \n",
       "2          56.625000                  5274.249448          324.359375   \n",
       "3          48.333333                  3917.867712          122.848485   \n",
       "4          72.457447                  8067.110556          511.468085   \n",
       "\n",
       "   pct_new_housing  Latitude_district  Longitude_district  \n",
       "0         0.000000         -23.030073          -45.573297  \n",
       "1         0.000000         -23.665478          -46.691436  \n",
       "2         9.375000         -21.821550          -42.964857  \n",
       "3         7.575758         -13.964309          -27.506922  \n",
       "4         4.255319         -22.336662          -42.747301  "
      ]
     },
     "execution_count": 58,
     "metadata": {},
     "output_type": "execute_result"
    }
   ],
   "source": [
    "district = housing_train.groupby(['District']).apply(lambda x: pd.Series(dict(qtd_housing          = ((x.Price.count()))\n",
    "                                                                   ,mean_housing_price   =  ((x.Price.mean())) \n",
    "                                                                   ,mean_housing_size    =  ((x.Size.mean()))\n",
    "                                                                   ,mean_Price_per_square_meter =  ((x.Price.sum()))/((x.Size.sum()))\n",
    "                                                                   ,mean_housing_condo   =  ((x.Condo.mean()))\n",
    "                                                                   ,pct_new_housing      = ((x.New.sum())*100/(x.Price.count()))\n",
    "                                                                   ,Latitude_district    =  ((x.Latitude.mean())) \n",
    "                                                                   ,Longitude_district   =  ((x.Longitude.mean()))\n",
    "))).reset_index() \n",
    "district.head()"
   ]
  },
  {
   "cell_type": "code",
   "execution_count": 59,
   "metadata": {},
   "outputs": [],
   "source": [
    "district['district_rate'] = pd.qcut(district['mean_Price_per_square_meter'],\n",
    "                                                 q=4,\n",
    "                                                 labels=[1, 2, 3, 4])"
   ]
  },
  {
   "cell_type": "code",
   "execution_count": 60,
   "metadata": {},
   "outputs": [],
   "source": [
    "district.to_csv('./datasets/district_information.csv', sep=';',index=False)"
   ]
  },
  {
   "cell_type": "code",
   "execution_count": 61,
   "metadata": {},
   "outputs": [],
   "source": [
    "# X_train = pd.merge(X_train, district[['District','district_rate']], how='left', on=['District'])"
   ]
  },
  {
   "cell_type": "code",
   "execution_count": 62,
   "metadata": {},
   "outputs": [],
   "source": [
    "# X_train.drop(['District'], axis=1, inplace=True)"
   ]
  },
  {
   "cell_type": "markdown",
   "metadata": {},
   "source": [
    "## 🚩 2. Create a Function to imput na values\n"
   ]
  },
  {
   "cell_type": "code",
   "execution_count": 63,
   "metadata": {},
   "outputs": [
    {
     "data": {
      "text/plain": [
       "(377, 15)"
      ]
     },
     "execution_count": 63,
     "metadata": {},
     "output_type": "execute_result"
    }
   ],
   "source": [
    "min_y= -23.8\n",
    "max_y= -23.2\n",
    "min_x= -46.95\n",
    "max_x= -46\n",
    "\n",
    "X_train[ (X_train['Latitude'] < min_y )   |\n",
    "         (X_train['Longitude'] < min_x )  |\n",
    "         (X_train['Latitude']  > max_y )  |\n",
    "         (X_train['Longitude'] > max_x )  ].shape"
   ]
  },
  {
   "cell_type": "code",
   "execution_count": 64,
   "metadata": {},
   "outputs": [
    {
     "name": "stderr",
     "output_type": "stream",
     "text": [
      "<ipython-input-64-2bb8c1f3fde5>:1: SettingWithCopyWarning: \n",
      "A value is trying to be set on a copy of a slice from a DataFrame\n",
      "\n",
      "See the caveats in the documentation: https://pandas.pydata.org/pandas-docs/stable/user_guide/indexing.html#returning-a-view-versus-a-copy\n",
      "  X_train['Latitude'][(X_train['Latitude'] < min_y )  |\n",
      "<ipython-input-64-2bb8c1f3fde5>:7: SettingWithCopyWarning: \n",
      "A value is trying to be set on a copy of a slice from a DataFrame\n",
      "\n",
      "See the caveats in the documentation: https://pandas.pydata.org/pandas-docs/stable/user_guide/indexing.html#returning-a-view-versus-a-copy\n",
      "  X_train['Longitude'][(X_train['Latitude'] < min_y ) |\n"
     ]
    }
   ],
   "source": [
    "X_train['Latitude'][(X_train['Latitude'] < min_y )  |\n",
    "                   (X_train['Longitude'] < min_x )  |\n",
    "                   (X_train['Latitude']  > max_y )  |\n",
    "                   (X_train['Longitude'] > max_x )  \n",
    "                   ]= np.nan\n",
    "\n",
    "X_train['Longitude'][(X_train['Latitude'] < min_y ) |\n",
    "                   (X_train['Longitude'] < min_x )  |\n",
    "                   (X_train['Latitude']  > max_y )  |\n",
    "                   (X_train['Longitude'] > max_x )  \n",
    "                   ]= np.nan"
   ]
  },
  {
   "cell_type": "code",
   "execution_count": 65,
   "metadata": {},
   "outputs": [
    {
     "data": {
      "text/html": [
       "<div>\n",
       "<style scoped>\n",
       "    .dataframe tbody tr th:only-of-type {\n",
       "        vertical-align: middle;\n",
       "    }\n",
       "\n",
       "    .dataframe tbody tr th {\n",
       "        vertical-align: top;\n",
       "    }\n",
       "\n",
       "    .dataframe thead th {\n",
       "        text-align: right;\n",
       "    }\n",
       "</style>\n",
       "<table border=\"1\" class=\"dataframe\">\n",
       "  <thead>\n",
       "    <tr style=\"text-align: right;\">\n",
       "      <th></th>\n",
       "      <th>District</th>\n",
       "      <th>Latitude</th>\n",
       "      <th>Longitude</th>\n",
       "    </tr>\n",
       "  </thead>\n",
       "  <tbody>\n",
       "    <tr>\n",
       "      <th>0</th>\n",
       "      <td>Alto de Pinheiros/São Paulo</td>\n",
       "      <td>-23.030073</td>\n",
       "      <td>-45.573297</td>\n",
       "    </tr>\n",
       "    <tr>\n",
       "      <th>1</th>\n",
       "      <td>Anhanguera/São Paulo</td>\n",
       "      <td>-23.665478</td>\n",
       "      <td>-46.691436</td>\n",
       "    </tr>\n",
       "    <tr>\n",
       "      <th>2</th>\n",
       "      <td>Aricanduva/São Paulo</td>\n",
       "      <td>-21.821550</td>\n",
       "      <td>-42.964857</td>\n",
       "    </tr>\n",
       "    <tr>\n",
       "      <th>3</th>\n",
       "      <td>Artur Alvim/São Paulo</td>\n",
       "      <td>-13.964309</td>\n",
       "      <td>-27.506922</td>\n",
       "    </tr>\n",
       "  </tbody>\n",
       "</table>\n",
       "</div>"
      ],
      "text/plain": [
       "                      District   Latitude  Longitude\n",
       "0  Alto de Pinheiros/São Paulo -23.030073 -45.573297\n",
       "1         Anhanguera/São Paulo -23.665478 -46.691436\n",
       "2         Aricanduva/São Paulo -21.821550 -42.964857\n",
       "3        Artur Alvim/São Paulo -13.964309 -27.506922"
      ]
     },
     "execution_count": 65,
     "metadata": {},
     "output_type": "execute_result"
    }
   ],
   "source": [
    "# Create a tablea that represents a median point per neighborhood\n",
    "geo_district = housing_train.groupby(['District']).apply(lambda x: pd.Series(dict(Latitude   =  ((x.Latitude.mean())) \n",
    "                                                                           ,Longitude    =  ((x.Longitude.mean()))   \n",
    "                                                                           ))).reset_index()\n",
    "geo_district.head(4)"
   ]
  },
  {
   "cell_type": "code",
   "execution_count": 66,
   "metadata": {},
   "outputs": [],
   "source": [
    "X_train = pd.merge(X_train, geo_district, how='left', on=['District'],suffixes=[\"\", \"_district\"])"
   ]
  },
  {
   "cell_type": "code",
   "execution_count": 67,
   "metadata": {},
   "outputs": [],
   "source": [
    "X_train.Latitude = np.where(X_train.Latitude.isnull()\n",
    "                                  , X_train.Latitude_district # If Latitude is null replace with Latitude_district\n",
    "                                  , X_train.Latitude # else, keep the original value\n",
    "                                 )\n",
    "X_train.Longitude = np.where(X_train.Longitude.isnull()\n",
    "                                  , X_train.Longitude_district # If Latitude is null replace with Longitude_district\n",
    "                                  , X_train.Longitude # else, keep the original value\n",
    "                                 )"
   ]
  },
  {
   "cell_type": "code",
   "execution_count": 68,
   "metadata": {},
   "outputs": [],
   "source": [
    "X_train.drop(['Latitude_district', 'Longitude_district', 'District'], axis=1, inplace=True)"
   ]
  },
  {
   "cell_type": "markdown",
   "metadata": {},
   "source": [
    "## 🚩 3. Create a Custom Tranformer\n"
   ]
  },
  {
   "cell_type": "code",
   "execution_count": 70,
   "metadata": {},
   "outputs": [],
   "source": [
    "\n",
    "class pre_processing_transform(BaseEstimator, TransformerMixin):\n",
    "    \n",
    "    # Classe que realiza Pré Processamento para os problemas 1 e 2\n",
    "    # Objetivo: Transformador customizado e adaptado ao sklearn\n",
    "    # Observacoes: Com esta configuração essa classe ganha os atributos \"fit\",\"fit_transform\" e \"transform\", nativas do sklearn\n",
    "    # Parametros: \"adc_faturamento_per_capita\" -> se True adiciona a coluna \"faturamento_per_capita\". Default : False\n",
    "    \n",
    "    def __init__(self):\n",
    "        return None\n",
    "    \n",
    "    def fit(self,X,y = None):\n",
    "        return self\n",
    "    \n",
    "    def transform(self, X, y = None):\n",
    "        temp = X.copy()\n",
    "        \n",
    "        # Create Columns\n",
    "        temp['Total Rooms']            = temp['Rooms'] + temp['Toilets'] + temp['Suites']\n",
    "        temp['Total Bedrooms']         = temp['Toilets'] + temp['Suites']\n",
    "        \n",
    "        \n",
    "        # Add District Rate\n",
    "        district = pd.read_csv('./datasets/district_information.csv', sep=';')\n",
    "        \n",
    "        temp = pd.merge(temp, district[['District','district_rate','Latitude_district','Longitude_district']],\n",
    "                           how='left', on=['District'])\n",
    "\n",
    "        # Drop object Column District   \n",
    "        temp.drop(['District'], axis=1, inplace=True)\n",
    "        \n",
    "        # Remove outliers and replace as NAN\n",
    "        temp['Latitude'][(temp['Latitude'] < min_y )  |\n",
    "                   (temp['Longitude'] < min_x )  |\n",
    "                   (temp['Latitude']  > max_y )  |\n",
    "                   (temp['Longitude'] > max_x )  \n",
    "                   ]= np.nan\n",
    "\n",
    "        temp['Longitude'][(temp['Latitude'] < min_y ) |\n",
    "                           (temp['Longitude'] < min_x )  |\n",
    "                           (temp['Latitude']  > max_y )  |\n",
    "                           (temp['Longitude'] > max_x )  \n",
    "                           ]= np.nan\n",
    "        \n",
    "        # Imput NA values with mean point neigborhood\n",
    "        temp.Latitude = np.where(temp.Latitude.isnull()\n",
    "                                  , temp.Latitude_district # If Latitude is null replace with Latitude_district\n",
    "                                  , temp.Latitude # else, keep the original value\n",
    "                                 )\n",
    "        temp.Longitude = np.where(temp.Longitude.isnull()\n",
    "                                          , temp.Longitude_district # If Latitude is null replace with Longitude_district\n",
    "                                          , temp.Longitude # else, keep the original value\n",
    "                                         )\n",
    "\n",
    "        # Drop temp Columns\n",
    "        temp.drop(['Latitude_district', 'Longitude_district'], axis=1, inplace=True)\n",
    "        \n",
    "      \n",
    "        return temp\n"
   ]
  },
  {
   "cell_type": "markdown",
   "metadata": {},
   "source": [
    "## 🚩 4. Build a Pipeline "
   ]
  },
  {
   "cell_type": "code",
   "execution_count": 71,
   "metadata": {},
   "outputs": [],
   "source": [
    "from sklearn.pipeline import Pipeline\n",
    "from sklearn.preprocessing import StandardScaler"
   ]
  },
  {
   "cell_type": "code",
   "execution_count": 72,
   "metadata": {},
   "outputs": [],
   "source": [
    "pipeline = Pipeline([\n",
    "        \n",
    "    #Adicionando as colunas\n",
    "    ('Criando as colunas', pre_processing_transform()),\n",
    "    \n",
    "    # Escalonando os valores pelo desvio padrão\n",
    "    ('escalonando', StandardScaler())\n",
    "])"
   ]
  },
  {
   "cell_type": "code",
   "execution_count": 73,
   "metadata": {},
   "outputs": [
    {
     "data": {
      "text/html": [
       "<div>\n",
       "<style scoped>\n",
       "    .dataframe tbody tr th:only-of-type {\n",
       "        vertical-align: middle;\n",
       "    }\n",
       "\n",
       "    .dataframe tbody tr th {\n",
       "        vertical-align: top;\n",
       "    }\n",
       "\n",
       "    .dataframe thead th {\n",
       "        text-align: right;\n",
       "    }\n",
       "</style>\n",
       "<table border=\"1\" class=\"dataframe\">\n",
       "  <thead>\n",
       "    <tr style=\"text-align: right;\">\n",
       "      <th></th>\n",
       "      <th>Condo</th>\n",
       "      <th>Size</th>\n",
       "      <th>Rooms</th>\n",
       "      <th>Toilets</th>\n",
       "      <th>Suites</th>\n",
       "      <th>Parking</th>\n",
       "      <th>Elevator</th>\n",
       "      <th>Furnished</th>\n",
       "      <th>Swimming Pool</th>\n",
       "      <th>New</th>\n",
       "      <th>District</th>\n",
       "      <th>Latitude</th>\n",
       "      <th>Longitude</th>\n",
       "    </tr>\n",
       "  </thead>\n",
       "  <tbody>\n",
       "    <tr>\n",
       "      <th>0</th>\n",
       "      <td>1465</td>\n",
       "      <td>152</td>\n",
       "      <td>3</td>\n",
       "      <td>2</td>\n",
       "      <td>1</td>\n",
       "      <td>2</td>\n",
       "      <td>0</td>\n",
       "      <td>0</td>\n",
       "      <td>1</td>\n",
       "      <td>0</td>\n",
       "      <td>Vila Jacuí/São Paulo</td>\n",
       "      <td>-23.499458</td>\n",
       "      <td>-46.449633</td>\n",
       "    </tr>\n",
       "    <tr>\n",
       "      <th>1</th>\n",
       "      <td>604</td>\n",
       "      <td>84</td>\n",
       "      <td>3</td>\n",
       "      <td>2</td>\n",
       "      <td>1</td>\n",
       "      <td>2</td>\n",
       "      <td>0</td>\n",
       "      <td>0</td>\n",
       "      <td>1</td>\n",
       "      <td>0</td>\n",
       "      <td>Jaguaré/São Paulo</td>\n",
       "      <td>-23.541739</td>\n",
       "      <td>-46.753211</td>\n",
       "    </tr>\n",
       "    <tr>\n",
       "      <th>2</th>\n",
       "      <td>680</td>\n",
       "      <td>73</td>\n",
       "      <td>3</td>\n",
       "      <td>2</td>\n",
       "      <td>1</td>\n",
       "      <td>1</td>\n",
       "      <td>1</td>\n",
       "      <td>0</td>\n",
       "      <td>0</td>\n",
       "      <td>0</td>\n",
       "      <td>Socorro/São Paulo</td>\n",
       "      <td>-23.689616</td>\n",
       "      <td>-46.698819</td>\n",
       "    </tr>\n",
       "    <tr>\n",
       "      <th>3</th>\n",
       "      <td>700</td>\n",
       "      <td>46</td>\n",
       "      <td>2</td>\n",
       "      <td>2</td>\n",
       "      <td>1</td>\n",
       "      <td>1</td>\n",
       "      <td>0</td>\n",
       "      <td>0</td>\n",
       "      <td>0</td>\n",
       "      <td>0</td>\n",
       "      <td>Carrão/São Paulo</td>\n",
       "      <td>-23.548712</td>\n",
       "      <td>-46.529097</td>\n",
       "    </tr>\n",
       "    <tr>\n",
       "      <th>4</th>\n",
       "      <td>0</td>\n",
       "      <td>41</td>\n",
       "      <td>2</td>\n",
       "      <td>2</td>\n",
       "      <td>1</td>\n",
       "      <td>1</td>\n",
       "      <td>1</td>\n",
       "      <td>0</td>\n",
       "      <td>0</td>\n",
       "      <td>1</td>\n",
       "      <td>Cursino/São Paulo</td>\n",
       "      <td>-23.652923</td>\n",
       "      <td>-46.614163</td>\n",
       "    </tr>\n",
       "  </tbody>\n",
       "</table>\n",
       "</div>"
      ],
      "text/plain": [
       "   Condo  Size  Rooms  Toilets  Suites  Parking  Elevator  Furnished  \\\n",
       "0   1465   152      3        2       1        2         0          0   \n",
       "1    604    84      3        2       1        2         0          0   \n",
       "2    680    73      3        2       1        1         1          0   \n",
       "3    700    46      2        2       1        1         0          0   \n",
       "4      0    41      2        2       1        1         1          0   \n",
       "\n",
       "   Swimming Pool  New              District   Latitude  Longitude  \n",
       "0              1    0  Vila Jacuí/São Paulo -23.499458 -46.449633  \n",
       "1              1    0     Jaguaré/São Paulo -23.541739 -46.753211  \n",
       "2              0    0     Socorro/São Paulo -23.689616 -46.698819  \n",
       "3              0    0      Carrão/São Paulo -23.548712 -46.529097  \n",
       "4              0    1     Cursino/São Paulo -23.652923 -46.614163  "
      ]
     },
     "execution_count": 73,
     "metadata": {},
     "output_type": "execute_result"
    }
   ],
   "source": [
    "housing_train = pd.read_csv('./datasets/housing_train.csv', sep=';')\n",
    "\n",
    "X_train = housing_train.drop(['Price'], axis=1).copy()\n",
    "y_train = housing_train['Price'].copy()\n",
    "\n",
    "X_train.head()"
   ]
  },
  {
   "cell_type": "code",
   "execution_count": 74,
   "metadata": {},
   "outputs": [
    {
     "name": "stderr",
     "output_type": "stream",
     "text": [
      "<ipython-input-70-177fd85e0404>:32: SettingWithCopyWarning: \n",
      "A value is trying to be set on a copy of a slice from a DataFrame\n",
      "\n",
      "See the caveats in the documentation: https://pandas.pydata.org/pandas-docs/stable/user_guide/indexing.html#returning-a-view-versus-a-copy\n",
      "  temp['Latitude'][(temp['Latitude'] < min_y )  |\n",
      "<ipython-input-70-177fd85e0404>:38: SettingWithCopyWarning: \n",
      "A value is trying to be set on a copy of a slice from a DataFrame\n",
      "\n",
      "See the caveats in the documentation: https://pandas.pydata.org/pandas-docs/stable/user_guide/indexing.html#returning-a-view-versus-a-copy\n",
      "  temp['Longitude'][(temp['Latitude'] < min_y ) |\n"
     ]
    }
   ],
   "source": [
    "# Basta agora aplicar o fit_transform no conjunto de treino\n",
    "X_train = pipeline.fit_transform(X_train)"
   ]
  },
  {
   "cell_type": "code",
   "execution_count": 75,
   "metadata": {},
   "outputs": [
    {
     "data": {
      "text/plain": [
       "array([[ 1.48361557,  1.41669665,  0.94307354, ...,  0.32454573,\n",
       "         0.01368112, -1.48092475],\n",
       "       [ 0.1016763 ,  0.09321455,  0.94307354, ...,  0.32454573,\n",
       "         0.01368112,  0.33767249],\n",
       "       [ 0.22365932, -0.12087815,  0.94307354, ...,  0.32454573,\n",
       "         0.01368112, -0.57162613],\n",
       "       ...,\n",
       "       [-0.56281019, -0.82154514, -0.46219803, ..., -0.14316011,\n",
       "         0.01368112,  0.33767249],\n",
       "       [-0.86776775, -0.54906353, -0.46219803, ..., -0.14316011,\n",
       "         0.01368112, -0.57162613],\n",
       "       [-0.4665078 , -0.47121164, -0.46219803, ..., -1.07857178,\n",
       "        -1.18573662, -0.57162613]])"
      ]
     },
     "execution_count": 75,
     "metadata": {},
     "output_type": "execute_result"
    }
   ],
   "source": [
    "X_train"
   ]
  },
  {
   "cell_type": "markdown",
   "metadata": {},
   "source": [
    "### Saving Pipeline"
   ]
  },
  {
   "cell_type": "code",
   "execution_count": 78,
   "metadata": {},
   "outputs": [
    {
     "data": {
      "text/plain": [
       "['./preprocessed_pipeline.pkl']"
      ]
     },
     "execution_count": 78,
     "metadata": {},
     "output_type": "execute_result"
    }
   ],
   "source": [
    "joblib.dump(pipeline, './preprocessed_pipeline.pkl')"
   ]
  },
  {
   "cell_type": "markdown",
   "metadata": {},
   "source": [
    "## 🏁 5. Create a full Pipeline with the model\n",
    "\n"
   ]
  },
  {
   "cell_type": "code",
   "execution_count": 128,
   "metadata": {},
   "outputs": [],
   "source": [
    "# Load train data\n",
    "housing_train = pd.read_csv('./datasets/housing_train.csv', sep=';')\n",
    "\n",
    "X_train = housing_train.drop(['Price'], axis=1).copy()\n",
    "y_train = housing_train['Price'].copy()"
   ]
  },
  {
   "cell_type": "code",
   "execution_count": 129,
   "metadata": {},
   "outputs": [],
   "source": [
    "# Load a pre processed pipeline\n",
    "loaded_preprocessed_pipeline = joblib.load('./preprocessed_pipeline.pkl')"
   ]
  },
  {
   "cell_type": "markdown",
   "metadata": {},
   "source": [
    "### Testing model application"
   ]
  },
  {
   "cell_type": "code",
   "execution_count": 131,
   "metadata": {},
   "outputs": [],
   "source": [
    "# Função que avalia os modelos de Regressão\n",
    "# Queremos focar nas métricas \n",
    "# R²: pela sua interpretabilidade ( por estar entre 0 e 1) \n",
    "# RSME: ( pois mensura em valores o erro médio)\n",
    "\n",
    "def resultados_regressao(modelo, nome_do_modelo ):\n",
    "      \n",
    "    resultado = modelo.predict(X_teste)\n",
    "        \n",
    "    R_2  =  r2_score(y_teste,resultado)\n",
    "    mse  =  mean_squared_error(y_teste, resultado, squared = False) \n",
    "    rmse =  mse **0.5\n",
    "    MAE  =  mean_absolute_error(y_teste,resultado)\n",
    "\n",
    "    \n",
    "    print('R²                      : ', R_2  )\n",
    "    print('Erro Médio ao quadrado  : ', mse  )\n",
    "    print('Erro Médio              : ', rmse )\n",
    "    print('Erro Absoluto Médio     : ', MAE  )"
   ]
  },
  {
   "cell_type": "code",
   "execution_count": 82,
   "metadata": {},
   "outputs": [],
   "source": [
    "from sklearn.ensemble import RandomForestRegressor"
   ]
  },
  {
   "cell_type": "code",
   "execution_count": 134,
   "metadata": {},
   "outputs": [
    {
     "name": "stdout",
     "output_type": "stream",
     "text": [
      "Modelo Test - Random Forest Regressor\n",
      "\n",
      "Fitting 5 folds for each of 12 candidates, totalling 60 fits\n",
      "Melhores parametros encontrados: \n",
      " {'random_forest_test__min_samples_leaf': 8, 'random_forest_test__min_samples_split': 50, 'random_forest_test__n_estimators': 250, 'random_forest_test__random_state': 42}\n"
     ]
    }
   ],
   "source": [
    "# RandomForest Tree Regressor\n",
    "\n",
    "print(\"Modelo Test - Random Forest Regressor\\n\") \n",
    "\n",
    "# Cria dicionario com os parametros do modelo\n",
    "parametros = [{'random_forest_test__min_samples_leaf':[3,8],\n",
    "              'random_forest_test__min_samples_split':[50,80],\n",
    "              'random_forest_test__n_estimators':[250,500,750],\n",
    "              'random_forest_test__random_state': [42]\n",
    "}]\n",
    "\n",
    "# Cria o objeto com o modelo do SKLearn\n",
    "modelo_2 = RandomForestRegressor()\n",
    "\n",
    "# Create a full pipeline\n",
    "\n",
    "full_pipeline = Pipeline([\n",
    "        ('preprocessing', loaded_preprocessed_pipeline),\n",
    "        ('random_forest_test', modelo_2)\n",
    "])\n",
    "\n",
    "# GridSearch\n",
    "grid = GridSearchCV(full_pipeline,parametros,cv=5, scoring = 'neg_mean_squared_error', return_train_score=True, verbose=1)\n",
    "\n",
    "# Treina o modelo\n",
    "grid.fit(X_train, y_train)\n",
    "\n",
    "# Melhor Combinação de Parametros\n",
    "melhor_Decision_Tree = grid.best_estimator_\n",
    "\n",
    "print('Melhores parametros encontrados: \\n',grid.best_params_)"
   ]
  },
  {
   "cell_type": "code",
   "execution_count": 139,
   "metadata": {},
   "outputs": [
    {
     "name": "stdout",
     "output_type": "stream",
     "text": [
      "Best Params : \n",
      " {'random_forest_test__min_samples_leaf': 8, 'random_forest_test__min_samples_split': 50, 'random_forest_test__n_estimators': 250, 'random_forest_test__random_state': 42} \n",
      "\n",
      "RSME of the best model: \n",
      " 320868.49327617587\n"
     ]
    }
   ],
   "source": [
    "# Melhor Combinação de Parametros\n",
    "best_model = grid.best_estimator_\n",
    "\n",
    "print('Best Params : \\n',grid.best_params_, '\\n')\n",
    "\n",
    "# best approximated RMSE\n",
    "np.sqrt(-grid.best_score_)\n",
    "\n",
    "print('RSME of the best model: \\n',np.sqrt(-grid.best_score_))"
   ]
  },
  {
   "cell_type": "code",
   "execution_count": null,
   "metadata": {},
   "outputs": [],
   "source": []
  },
  {
   "cell_type": "code",
   "execution_count": null,
   "metadata": {},
   "outputs": [],
   "source": [
    "# full_pipeline.get_params().keys()\n",
    "# grid.best_estimator_"
   ]
  },
  {
   "cell_type": "code",
   "execution_count": null,
   "metadata": {},
   "outputs": [],
   "source": []
  },
  {
   "cell_type": "code",
   "execution_count": null,
   "metadata": {},
   "outputs": [],
   "source": [
    "\n"
   ]
  }
 ],
 "metadata": {
  "kernelspec": {
   "display_name": "Python 3",
   "language": "python",
   "name": "python3"
  },
  "language_info": {
   "codemirror_mode": {
    "name": "ipython",
    "version": 3
   },
   "file_extension": ".py",
   "mimetype": "text/x-python",
   "name": "python",
   "nbconvert_exporter": "python",
   "pygments_lexer": "ipython3",
   "version": "3.8.5"
  }
 },
 "nbformat": 4,
 "nbformat_minor": 4
}
